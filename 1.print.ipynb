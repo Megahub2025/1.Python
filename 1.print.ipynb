{
 "cells": [
  {
   "cell_type": "code",
   "execution_count": 1,
   "id": "e0f14536-d534-4343-8170-fc7a6cbe390c",
   "metadata": {},
   "outputs": [
    {
     "name": "stdout",
     "output_type": "stream",
     "text": [
      "\n"
     ]
    }
   ],
   "source": [
    "print( )"
   ]
  },
  {
   "cell_type": "code",
   "execution_count": 2,
   "id": "4261b8a2-c1c7-45b2-a4a9-0c71155813d3",
   "metadata": {},
   "outputs": [
    {
     "name": "stdout",
     "output_type": "stream",
     "text": [
      "welcome to Hope AI\n"
     ]
    }
   ],
   "source": [
    "print(\"welcome to Hope AI\")"
   ]
  },
  {
   "cell_type": "code",
   "execution_count": null,
   "id": "ae428cde-2cbe-47a1-bfb7-f803f737dc33",
   "metadata": {},
   "outputs": [],
   "source": []
  }
 ],
 "metadata": {
  "kernelspec": {
   "display_name": "Python [conda env:base] *",
   "language": "python",
   "name": "conda-base-py"
  },
  "language_info": {
   "codemirror_mode": {
    "name": "ipython",
    "version": 3
   },
   "file_extension": ".py",
   "mimetype": "text/x-python",
   "name": "python",
   "nbconvert_exporter": "python",
   "pygments_lexer": "ipython3",
   "version": "3.12.7"
  }
 },
 "nbformat": 4,
 "nbformat_minor": 5
}
