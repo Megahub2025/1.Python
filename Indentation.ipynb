{
 "cells": [
  {
   "cell_type": "code",
   "execution_count": null,
   "id": "d874e43a-db1f-49a3-a344-e818d6d725b1",
   "metadata": {},
   "outputs": [],
   "source": [
    "if(condition):\n",
    "    print( )\n",
    "else:\n",
    "    print( )"
   ]
  },
  {
   "cell_type": "code",
   "execution_count": null,
   "id": "a3d6892b-b8a6-46eb-861f-c4353a50e713",
   "metadata": {},
   "outputs": [],
   "source": [
    "for temp in range(1,11):\n",
    "    "
   ]
  }
 ],
 "metadata": {
  "kernelspec": {
   "display_name": "Python [conda env:base] *",
   "language": "python",
   "name": "conda-base-py"
  },
  "language_info": {
   "codemirror_mode": {
    "name": "ipython",
    "version": 3
   },
   "file_extension": ".py",
   "mimetype": "text/x-python",
   "name": "python",
   "nbconvert_exporter": "python",
   "pygments_lexer": "ipython3",
   "version": "3.12.7"
  }
 },
 "nbformat": 4,
 "nbformat_minor": 5
}
