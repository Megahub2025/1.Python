{
 "cells": [
  {
   "cell_type": "code",
   "execution_count": null,
   "id": "85dd52aa-544d-41e5-a02e-c4ede74570cf",
   "metadata": {},
   "outputs": [],
   "source": [
    "#Baby steps Homework"
   ]
  },
  {
   "cell_type": "code",
   "execution_count": 1,
   "id": "d1e79405-b6f8-43ec-9106-5f59e4d3c3bb",
   "metadata": {},
   "outputs": [
    {
     "name": "stdout",
     "output_type": "stream",
     "text": [
      "Welcome to Assignment-1\n"
     ]
    }
   ],
   "source": [
    "print(\"Welcome to Assignment-1\")"
   ]
  },
  {
   "cell_type": "code",
   "execution_count": 7,
   "id": "ce4d0518-1576-4017-baef-a4bd66589046",
   "metadata": {},
   "outputs": [
    {
     "name": "stdout",
     "output_type": "stream",
     "text": [
      "Num1=  10\n",
      "Num2=  30\n",
      "Add=  40\n"
     ]
    }
   ],
   "source": [
    "Num1=10\n",
    "Num2=30\n",
    "Add=Num1+Num2\n",
    "print(\"Num1= \",Num1)\n",
    "print(\"Num2= \",Num2)\n",
    "print(\"Add= \",Add)"
   ]
  },
  {
   "cell_type": "code",
   "execution_count": 4,
   "id": "c3ce8a8c-54b7-431a-a286-32df2d02ab45",
   "metadata": {},
   "outputs": [
    {
     "name": "stdin",
     "output_type": "stream",
     "text": [
      "Enter the BMI Index:  34\n"
     ]
    },
    {
     "name": "stdout",
     "output_type": "stream",
     "text": [
      "Very Overweight\n"
     ]
    }
   ],
   "source": [
    "BMI=int(input(\"Enter the BMI Index: \"))\n",
    "if(BMI<18.5):\n",
    "      print(\"Underweight \")\n",
    "elif(BMI<24.9):\n",
    "      print(\"Healthy weight\")\n",
    "elif(BMI<29.9):\n",
    "      print(\"Overweight\")\n",
    "else:\n",
    "      print(\"Very Overweight\")"
   ]
  },
  {
   "cell_type": "code",
   "execution_count": 6,
   "id": "238fe58d-075a-4326-8b72-0182a0a4803d",
   "metadata": {},
   "outputs": [
    {
     "name": "stdout",
     "output_type": "stream",
     "text": [
      "Num1= 10\n",
      "Num2= 30\n",
      "Add= 40\n"
     ]
    }
   ],
   "source": [
    "num1=10\n",
    "num2=30\n",
    "print(\"Num1=\",num1)\n",
    "print(\"Num2=\",num2)\n",
    "print(\"Add=\",num1+num2)"
   ]
  },
  {
   "cell_type": "code",
   "execution_count": null,
   "id": "61a91a5a-6e99-4004-8f8e-981a6422281b",
   "metadata": {},
   "outputs": [],
   "source": [
    "#Extra Assignment-1"
   ]
  },
  {
   "cell_type": "code",
   "execution_count": null,
   "id": "789ee082-f5ed-4183-ad26-515fa4965f82",
   "metadata": {},
   "outputs": [],
   "source": [
    "#print statement"
   ]
  },
  {
   "cell_type": "code",
   "execution_count": 9,
   "id": "79ad07ae-b267-4b2e-9f7f-b626de859deb",
   "metadata": {},
   "outputs": [
    {
     "name": "stdout",
     "output_type": "stream",
     "text": [
      "HOPE AI\n"
     ]
    }
   ],
   "source": [
    "print(\"HOPE AI\")"
   ]
  },
  {
   "cell_type": "code",
   "execution_count": null,
   "id": "0129d9af-b779-4b77-90d9-c8c27b372f24",
   "metadata": {},
   "outputs": [],
   "source": [
    "#buy input"
   ]
  },
  {
   "cell_type": "code",
   "execution_count": 10,
   "id": "72600c3d-fd67-4370-a8fa-386ba3a65ca4",
   "metadata": {},
   "outputs": [
    {
     "name": "stdin",
     "output_type": "stream",
     "text": [
      "Enter your institute name? :  Hope AI\n"
     ]
    }
   ],
   "source": [
    "Name=input(\"Enter your institute name? : \")"
   ]
  },
  {
   "cell_type": "code",
   "execution_count": null,
   "id": "65447fc5-1ad9-4818-af73-a6842a3c42b0",
   "metadata": {},
   "outputs": [],
   "source": [
    "#buy inputs"
   ]
  },
  {
   "cell_type": "code",
   "execution_count": 11,
   "id": "3646766c-ea86-4feb-bfde-d012506fc5f4",
   "metadata": {},
   "outputs": [
    {
     "name": "stdin",
     "output_type": "stream",
     "text": [
      "Enter your name:  Raj\n",
      "Enter your age :  15\n",
      "Enter your school name:  Guru\n",
      "Enter your degree :  B.E CSE\n"
     ]
    }
   ],
   "source": [
    "Name=input(\"Enter your name: \")\n",
    "Name=int(input(\"Enter your age : \"))\n",
    "Name=input(\"Enter your school name: \")\n",
    "Name=input(\"Enter your degree : \")"
   ]
  },
  {
   "cell_type": "code",
   "execution_count": null,
   "id": "1c5b0e98-d285-4526-b6c1-e8fa5ce026c7",
   "metadata": {},
   "outputs": [],
   "source": [
    "#Addition"
   ]
  },
  {
   "cell_type": "code",
   "execution_count": 12,
   "id": "f757e49b-1e76-451f-a306-6577f86f0eb5",
   "metadata": {},
   "outputs": [
    {
     "name": "stdout",
     "output_type": "stream",
     "text": [
      "a=  43\n",
      "b= 34\n",
      "add=  77\n"
     ]
    }
   ],
   "source": [
    "a=43\n",
    "b=34\n",
    "add=a+b\n",
    "print(\"a= \", a)\n",
    "print(\"b=\", b)\n",
    "print(\"add= \",add)"
   ]
  },
  {
   "cell_type": "code",
   "execution_count": null,
   "id": "1186327d-e5fb-4fcc-b22f-aa0cdcbab33c",
   "metadata": {},
   "outputs": [],
   "source": [
    "#subtraction"
   ]
  },
  {
   "cell_type": "code",
   "execution_count": 13,
   "id": "1e7efc56-601f-4a31-bdf8-329d72687187",
   "metadata": {},
   "outputs": [
    {
     "name": "stdout",
     "output_type": "stream",
     "text": [
      "a=  43\n",
      "b= 34\n",
      "sub=  9\n"
     ]
    }
   ],
   "source": [
    "a=43\n",
    "b=34\n",
    "sub=a-b\n",
    "print(\"a= \", a)\n",
    "print(\"b=\", b)\n",
    "print(\"sub= \",sub)"
   ]
  },
  {
   "cell_type": "code",
   "execution_count": null,
   "id": "74705ec3-8e35-4b8e-b557-9b2d43a73af8",
   "metadata": {},
   "outputs": [],
   "source": [
    "#multiplication"
   ]
  },
  {
   "cell_type": "code",
   "execution_count": 14,
   "id": "d9891186-c444-4a00-aff3-04e88ac23f92",
   "metadata": {},
   "outputs": [
    {
     "name": "stdout",
     "output_type": "stream",
     "text": [
      "a=  63\n",
      "b= 97\n",
      "mul=  6111\n"
     ]
    }
   ],
   "source": [
    "a=63\n",
    "b=97\n",
    "mul=a*b\n",
    "print(\"a= \", a)\n",
    "print(\"b=\", b)\n",
    "print(\"mul= \",mul)"
   ]
  },
  {
   "cell_type": "code",
   "execution_count": null,
   "id": "3e5cd161-f427-41d5-8e57-8f8d7ce32f6f",
   "metadata": {},
   "outputs": [],
   "source": [
    "#float division"
   ]
  },
  {
   "cell_type": "code",
   "execution_count": 15,
   "id": "6ef95afc-62c8-4de3-968f-00e8034057e6",
   "metadata": {},
   "outputs": [
    {
     "name": "stdout",
     "output_type": "stream",
     "text": [
      "a=  76\n",
      "b= 31\n",
      "Float Div=  2.4516129032258065\n"
     ]
    }
   ],
   "source": [
    "a=76\n",
    "b=31\n",
    "div=a/b\n",
    "print(\"a= \", a)\n",
    "print(\"b=\", b)\n",
    "print(\"Float Div= \",div)"
   ]
  },
  {
   "cell_type": "code",
   "execution_count": null,
   "id": "d16ca7bf-24cb-46b1-9034-759a967bc9aa",
   "metadata": {},
   "outputs": [],
   "source": [
    "#floor division"
   ]
  },
  {
   "cell_type": "code",
   "execution_count": 16,
   "id": "51788db6-1210-4e1e-8d1a-56b3fb064bb4",
   "metadata": {},
   "outputs": [
    {
     "name": "stdout",
     "output_type": "stream",
     "text": [
      "a=  76\n",
      "b= 31\n",
      "Floor Div=  2\n"
     ]
    }
   ],
   "source": [
    "a=76\n",
    "b=31\n",
    "div=a//b\n",
    "print(\"a= \", a)\n",
    "print(\"b=\", b)\n",
    "print(\"Floor Div= \",div)"
   ]
  },
  {
   "cell_type": "code",
   "execution_count": null,
   "id": "b75f868f-3b22-4bd3-b698-4a9a86a00ed3",
   "metadata": {},
   "outputs": [],
   "source": [
    "#Modulo"
   ]
  },
  {
   "cell_type": "code",
   "execution_count": 17,
   "id": "5f7be0ad-4afc-4e07-93b6-3bb02f0bfec2",
   "metadata": {},
   "outputs": [
    {
     "name": "stdout",
     "output_type": "stream",
     "text": [
      "a=  76\n",
      "b= 31\n",
      "Modulo=  14\n"
     ]
    }
   ],
   "source": [
    "a=76\n",
    "b=31\n",
    "mod=a%b\n",
    "print(\"a= \", a)\n",
    "print(\"b=\", b)\n",
    "print(\"Modulo= \",mod)"
   ]
  },
  {
   "cell_type": "code",
   "execution_count": null,
   "id": "0c3513a4-5ff1-4602-b0b3-3696d70fb7ae",
   "metadata": {},
   "outputs": [],
   "source": [
    "#power"
   ]
  },
  {
   "cell_type": "code",
   "execution_count": 19,
   "id": "f9abfff8-be85-48ce-baa5-43e94ade499e",
   "metadata": {},
   "outputs": [
    {
     "name": "stdout",
     "output_type": "stream",
     "text": [
      "a=  4\n",
      "b= 4\n",
      "Power=  256\n"
     ]
    }
   ],
   "source": [
    "a=4\n",
    "b=4\n",
    "pow=a**b\n",
    "print(\"a= \", a)\n",
    "print(\"b=\", b)\n",
    "print(\"Power= \",pow)"
   ]
  },
  {
   "cell_type": "code",
   "execution_count": null,
   "id": "8f7feb31-4f0b-433e-9950-3728a59ca008",
   "metadata": {},
   "outputs": [],
   "source": [
    "#Extra Assignment-2"
   ]
  },
  {
   "cell_type": "code",
   "execution_count": null,
   "id": "593ce44b-c061-4060-9efc-8bbfa86935ae",
   "metadata": {},
   "outputs": [],
   "source": [
    "# print 0 to 20 by using range"
   ]
  },
  {
   "cell_type": "code",
   "execution_count": 20,
   "id": "11d6310f-d06a-4973-9905-721361bf7ea8",
   "metadata": {},
   "outputs": [
    {
     "name": "stdout",
     "output_type": "stream",
     "text": [
      "0\n",
      "1\n",
      "2\n",
      "3\n",
      "4\n",
      "5\n",
      "6\n",
      "7\n",
      "8\n",
      "9\n",
      "10\n",
      "11\n",
      "12\n",
      "13\n",
      "14\n",
      "15\n",
      "16\n",
      "17\n",
      "18\n",
      "19\n"
     ]
    }
   ],
   "source": [
    "for num in range(0,20):\n",
    "    print(num)"
   ]
  },
  {
   "cell_type": "code",
   "execution_count": 21,
   "id": "fa2c0e47-daf2-461b-95dc-0e92708daf72",
   "metadata": {},
   "outputs": [
    {
     "name": "stdout",
     "output_type": "stream",
     "text": [
      "10 11 12 13 14 15 16 17 18 19 "
     ]
    }
   ],
   "source": [
    "# print range 10 to 20\n",
    "for number in range(10,20):\n",
    "    print(number, end=' ')"
   ]
  },
  {
   "cell_type": "code",
   "execution_count": 23,
   "id": "9aa56561-c5b2-4704-96e7-860c484a4241",
   "metadata": {},
   "outputs": [
    {
     "name": "stdout",
     "output_type": "stream",
     "text": [
      "Number of item in the List2:\n",
      "7\n"
     ]
    }
   ],
   "source": [
    "# Print number of items in the list by using 'len'\n",
    "List2 = [10, 20, 14, 55, 43, 87, 76]\n",
    "print(\"Number of item in the List2:\")\n",
    "print(len(List2))"
   ]
  },
  {
   "cell_type": "code",
   "execution_count": 25,
   "id": "b1107b30-d4ab-4c62-a4b8-8c2c57412688",
   "metadata": {},
   "outputs": [
    {
     "name": "stdout",
     "output_type": "stream",
     "text": [
      "Artificial Intelligence\n",
      "A\n",
      "r\n",
      "t\n",
      "i\n",
      "f\n",
      "i\n",
      "c\n",
      "i\n",
      "a\n",
      "l\n",
      " \n",
      "I\n",
      "n\n",
      "t\n",
      "e\n",
      "l\n",
      "l\n",
      "i\n",
      "g\n",
      "e\n",
      "n\n",
      "c\n",
      "e\n"
     ]
    }
   ],
   "source": [
    "Title = \"Artificial Intelligence\"\n",
    "print(Title)\n",
    "for chr in Title:\n",
    "    print(chr)"
   ]
  },
  {
   "cell_type": "code",
   "execution_count": 29,
   "id": "3b2d1774-e6a8-4d54-9f37-669ae2624420",
   "metadata": {},
   "outputs": [
    {
     "name": "stdin",
     "output_type": "stream",
     "text": [
      "Enter your Name Mega\n",
      "Enter your Age 44\n",
      "Enter your Profession IT\n"
     ]
    },
    {
     "name": "stdout",
     "output_type": "stream",
     "text": [
      "-Your Name- Mega\n",
      "-Your age- 44\n",
      "-Your Profession- IT\n"
     ]
    }
   ],
   "source": [
    "name = input(\"Enter your Name\")\n",
    "age = int(input(\"Enter your Age\"))\n",
    "prof = input(\"Enter your Profession\")\n",
    "print(\"-Your Name-\", name)\n",
    "print(\"-Your age-\", age)\n",
    "print(\"-Your Profession-\",prof)"
   ]
  },
  {
   "cell_type": "code",
   "execution_count": 31,
   "id": "11dc8041-e97e-4835-9ea3-02eeff53746e",
   "metadata": {},
   "outputs": [
    {
     "name": "stdin",
     "output_type": "stream",
     "text": [
      "Enter your Name M\n",
      "Enter your Age 3\n",
      "Enter your Profession p\n"
     ]
    },
    {
     "name": "stdout",
     "output_type": "stream",
     "text": [
      "-Your Name- M\n",
      "-Your age- 3\n",
      "-Your Profession- p\n"
     ]
    }
   ],
   "source": [
    "# print multi datatypes us\n",
    "tup = (1, 'Welcome', 2, 'Hope')\n",
    "print(tup)"
   ]
  },
  {
   "cell_type": "code",
   "execution_count": null,
   "id": "93c46691-4bcf-4cca-a7d5-716503e4a1ac",
   "metadata": {},
   "outputs": [],
   "source": []
  }
 ],
 "metadata": {
  "kernelspec": {
   "display_name": "Python [conda env:base] *",
   "language": "python",
   "name": "conda-base-py"
  },
  "language_info": {
   "codemirror_mode": {
    "name": "ipython",
    "version": 3
   },
   "file_extension": ".py",
   "mimetype": "text/x-python",
   "name": "python",
   "nbconvert_exporter": "python",
   "pygments_lexer": "ipython3",
   "version": "3.12.7"
  }
 },
 "nbformat": 4,
 "nbformat_minor": 5
}
