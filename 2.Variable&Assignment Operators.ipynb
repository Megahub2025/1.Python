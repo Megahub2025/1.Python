{
 "cells": [
  {
   "cell_type": "code",
   "execution_count": null,
   "id": "dd5b9b3c-d307-4fa5-adfb-389917000df5",
   "metadata": {},
   "outputs": [],
   "source": [
    "num1=10\n",
    "num2=30\n",
    "add=num1+num2"
   ]
  },
  {
   "cell_type": "code",
   "execution_count": 1,
   "id": "f937c564-83fd-4904-8fd5-ecf81e6d4c94",
   "metadata": {},
   "outputs": [
    {
     "name": "stdout",
     "output_type": "stream",
     "text": [
      "add\n",
      "40\n"
     ]
    }
   ],
   "source": [
    "num1=10\n",
    "num2=30\n",
    "add=num1+num2\n",
    "print(\"add\")\n",
    "print(add)"
   ]
  },
  {
   "cell_type": "code",
   "execution_count": 2,
   "id": "7d443611-dc9f-4211-a06e-44a41d43fa8b",
   "metadata": {},
   "outputs": [
    {
     "name": "stdout",
     "output_type": "stream",
     "text": [
      "Add: 40\n",
      "Sub: -20\n"
     ]
    }
   ],
   "source": [
    "num1=10\n",
    "num2=30\n",
    "add=num1+num2\n",
    "sub=num1-num2\n",
    "print(\"Add:\",add)\n",
    "print(\"Sub:\",sub)"
   ]
  },
  {
   "cell_type": "code",
   "execution_count": 3,
   "id": "8b576190-19e2-4918-b339-90eaa9ed02ae",
   "metadata": {},
   "outputs": [
    {
     "name": "stdout",
     "output_type": "stream",
     "text": [
      "Add: 40\n",
      "Sub: 20\n"
     ]
    }
   ],
   "source": [
    "num1=10\n",
    "num2=30\n",
    "add=num1+num2\n",
    "sub=num2-num1\n",
    "print(\"Add:\",add)\n",
    "print(\"Sub:\",sub)"
   ]
  },
  {
   "cell_type": "code",
   "execution_count": 4,
   "id": "a0bd0e95-8c2c-4c42-bffd-bb2e4d642af3",
   "metadata": {},
   "outputs": [
    {
     "ename": "SyntaxError",
     "evalue": "invalid syntax (2319439673.py, line 1)",
     "output_type": "error",
     "traceback": [
      "\u001b[1;36m  Cell \u001b[1;32mIn[4], line 1\u001b[1;36m\u001b[0m\n\u001b[1;33m    first name= \"Riya Mega\"\u001b[0m\n\u001b[1;37m          ^\u001b[0m\n\u001b[1;31mSyntaxError\u001b[0m\u001b[1;31m:\u001b[0m invalid syntax\n"
     ]
    }
   ],
   "source": [
    "first name= \"Riya Mega\"\n"
   ]
  },
  {
   "cell_type": "code",
   "execution_count": 5,
   "id": "d3d52224-412f-4e8b-b843-2edb3b11ba64",
   "metadata": {},
   "outputs": [],
   "source": [
    "first_name= \"Riya Mega\""
   ]
  },
  {
   "cell_type": "code",
   "execution_count": 6,
   "id": "ebec4af9-9e83-4357-af8c-4ccd78e999f5",
   "metadata": {},
   "outputs": [
    {
     "ename": "SyntaxError",
     "evalue": "invalid decimal literal (3428317139.py, line 1)",
     "output_type": "error",
     "traceback": [
      "\u001b[1;36m  Cell \u001b[1;32mIn[6], line 1\u001b[1;36m\u001b[0m\n\u001b[1;33m    4first=30\u001b[0m\n\u001b[1;37m    ^\u001b[0m\n\u001b[1;31mSyntaxError\u001b[0m\u001b[1;31m:\u001b[0m invalid decimal literal\n"
     ]
    }
   ],
   "source": [
    "4first=30"
   ]
  },
  {
   "cell_type": "code",
   "execution_count": 7,
   "id": "57d12193-981d-4e55-8443-5b4b6dd2abe5",
   "metadata": {},
   "outputs": [],
   "source": [
    "first4=30"
   ]
  },
  {
   "cell_type": "code",
   "execution_count": 8,
   "id": "8b71e879-394f-4b0b-a323-25c71930a7ac",
   "metadata": {},
   "outputs": [
    {
     "name": "stdout",
     "output_type": "stream",
     "text": [
      "The addition of two numbers\n",
      "The number1: 10\n"
     ]
    }
   ],
   "source": [
    "print(\"The addition of two numbers\")\n",
    "num1=10\n",
    "print(\"The number1:\",num1)\n"
   ]
  },
  {
   "cell_type": "code",
   "execution_count": 9,
   "id": "ea90d987-69de-47e0-9704-d3dc30b2aa17",
   "metadata": {},
   "outputs": [
    {
     "name": "stdout",
     "output_type": "stream",
     "text": [
      "The addition of two numbers\n",
      "The number1: 10\n",
      "The number2: 20\n",
      "The add: 30\n"
     ]
    }
   ],
   "source": [
    "print(\"The addition of two numbers\")\n",
    "num1=10\n",
    "print(\"The number1:\",num1)\n",
    "num2=20\n",
    "print(\"The number2:\",num2)\n",
    "add=num1+num2\n",
    "print(\"The add:\",num1+num2)"
   ]
  },
  {
   "cell_type": "code",
   "execution_count": 13,
   "id": "112c9240-da0e-4cb8-8cef-3c62ba2d7f50",
   "metadata": {},
   "outputs": [
    {
     "name": "stdout",
     "output_type": "stream",
     "text": [
      "The addition of two numbers\n",
      "The number1: 10\n",
      "The number2: 20\n",
      "Output : 30\n"
     ]
    }
   ],
   "source": [
    "print(\"The addition of two numbers\")\n",
    "num1=10\n",
    "print(\"The number1:\",num1)\n",
    "num2=20\n",
    "print(\"The number2:\",num2)\n",
    "print(\"Output :\",num1+num2)"
   ]
  },
  {
   "cell_type": "code",
   "execution_count": 12,
   "id": "456b48fe-633c-49f0-87b8-560f92e5af86",
   "metadata": {},
   "outputs": [
    {
     "name": "stdout",
     "output_type": "stream",
     "text": [
      "The addition of two numbers\n",
      "The number1: 10\n",
      "The number2: 20\n",
      "Sum: 30\n"
     ]
    }
   ],
   "source": [
    "print(\"The addition of two numbers\")\n",
    "num1=10\n",
    "print(\"The number1:\",num1)\n",
    "num2=20\n",
    "print(\"The number2:\",num2)\n",
    "add=num1+num2\n",
    "print(\"Sum:\",add)"
   ]
  },
  {
   "cell_type": "code",
   "execution_count": 14,
   "id": "727caea4-8ff6-4624-bf01-83801dc8df6d",
   "metadata": {},
   "outputs": [
    {
     "name": "stdin",
     "output_type": "stream",
     "text": [
      "Enter num1: 20\n"
     ]
    }
   ],
   "source": [
    "num1=input(\"Enter num1:\")"
   ]
  },
  {
   "cell_type": "code",
   "execution_count": 15,
   "id": "96b6a10e-2699-47d6-963b-ed951b5c0c9b",
   "metadata": {},
   "outputs": [
    {
     "name": "stdin",
     "output_type": "stream",
     "text": [
      "Enter num2: 30\n"
     ]
    }
   ],
   "source": [
    "num2=input(\"Enter num2:\")"
   ]
  },
  {
   "cell_type": "code",
   "execution_count": 16,
   "id": "31c163ed-b3f8-49ec-8698-adc4fe614900",
   "metadata": {},
   "outputs": [],
   "source": [
    "add=num1+num2"
   ]
  },
  {
   "cell_type": "code",
   "execution_count": 17,
   "id": "f315bb50-c75d-41d5-9d20-e9b54967b28b",
   "metadata": {},
   "outputs": [
    {
     "name": "stdout",
     "output_type": "stream",
     "text": [
      "2030\n"
     ]
    }
   ],
   "source": [
    "print(add)"
   ]
  },
  {
   "cell_type": "code",
   "execution_count": 19,
   "id": "7bfc683d-285c-41e8-b06b-44ca40941d1a",
   "metadata": {},
   "outputs": [
    {
     "ename": "SyntaxError",
     "evalue": "incomplete input (17336167.py, line 1)",
     "output_type": "error",
     "traceback": [
      "\u001b[1;36m  Cell \u001b[1;32mIn[19], line 1\u001b[1;36m\u001b[0m\n\u001b[1;33m    num1=int(input(\"Enter num1:\")\u001b[0m\n\u001b[1;37m                                          ^\u001b[0m\n\u001b[1;31mSyntaxError\u001b[0m\u001b[1;31m:\u001b[0m incomplete input\n"
     ]
    }
   ],
   "source": [
    "num1=int(input(\"Enter num1:\")         "
   ]
  },
  {
   "cell_type": "code",
   "execution_count": 20,
   "id": "c833e925-eff8-41db-a509-84806ad7d2a3",
   "metadata": {},
   "outputs": [
    {
     "name": "stdin",
     "output_type": "stream",
     "text": [
      "Enter num1: 20\n"
     ]
    }
   ],
   "source": [
    "num1=int(input(\"Enter num1:\"))      \n"
   ]
  },
  {
   "cell_type": "code",
   "execution_count": 23,
   "id": "a3cab7da-dafa-4e89-b41c-a236c44e7e4b",
   "metadata": {},
   "outputs": [
    {
     "name": "stdin",
     "output_type": "stream",
     "text": [
      "Enter num1: 50\n",
      "Enter num2: 30\n"
     ]
    },
    {
     "name": "stdout",
     "output_type": "stream",
     "text": [
      "The total: 80\n"
     ]
    }
   ],
   "source": [
    "num1=int(input(\"Enter num1:\"))\n",
    "num2=int(input(\"Enter num2:\"))\n",
    "add=num1+num2\n",
    "print(\"The total:\",add)"
   ]
  },
  {
   "cell_type": "code",
   "execution_count": 24,
   "id": "f46cde35-96a1-4a93-a517-ebf9f715fc5c",
   "metadata": {},
   "outputs": [
    {
     "name": "stdout",
     "output_type": "stream",
     "text": [
      "80\n"
     ]
    },
    {
     "ename": "NameError",
     "evalue": "name 'mul' is not defined",
     "output_type": "error",
     "traceback": [
      "\u001b[1;31m---------------------------------------------------------------------------\u001b[0m",
      "\u001b[1;31mNameError\u001b[0m                                 Traceback (most recent call last)",
      "Cell \u001b[1;32mIn[24], line 2\u001b[0m\n\u001b[0;32m      1\u001b[0m \u001b[38;5;28mprint\u001b[39m(add)\n\u001b[1;32m----> 2\u001b[0m \u001b[38;5;28mprint\u001b[39m(mul)\n",
      "\u001b[1;31mNameError\u001b[0m: name 'mul' is not defined"
     ]
    }
   ],
   "source": [
    "print(add)\n",
    "print(mul)"
   ]
  },
  {
   "cell_type": "code",
   "execution_count": 25,
   "id": "08483c64-13de-4289-a42e-2c45e440295f",
   "metadata": {},
   "outputs": [
    {
     "name": "stdout",
     "output_type": "stream",
     "text": [
      "80\n",
      "9\n"
     ]
    }
   ],
   "source": [
    "mul=9\n",
    "print(add)\n",
    "print(mul)"
   ]
  },
  {
   "cell_type": "code",
   "execution_count": 26,
   "id": "b8741bac-0ba0-41c5-b22a-ec8454276d5f",
   "metadata": {},
   "outputs": [
    {
     "name": "stdin",
     "output_type": "stream",
     "text": [
      "Enter the name:  Meg\n"
     ]
    },
    {
     "ename": "ValueError",
     "evalue": "invalid literal for int() with base 10: 'Meg'",
     "output_type": "error",
     "traceback": [
      "\u001b[1;31m---------------------------------------------------------------------------\u001b[0m",
      "\u001b[1;31mValueError\u001b[0m                                Traceback (most recent call last)",
      "Cell \u001b[1;32mIn[26], line 1\u001b[0m\n\u001b[1;32m----> 1\u001b[0m num\u001b[38;5;241m=\u001b[39m\u001b[38;5;28mint\u001b[39m(\u001b[38;5;28minput\u001b[39m(\u001b[38;5;124m\"\u001b[39m\u001b[38;5;124mEnter the name: \u001b[39m\u001b[38;5;124m\"\u001b[39m))\n",
      "\u001b[1;31mValueError\u001b[0m: invalid literal for int() with base 10: 'Meg'"
     ]
    }
   ],
   "source": [
    "num=int(input(\"Enter the name: \"))"
   ]
  },
  {
   "cell_type": "code",
   "execution_count": 28,
   "id": "09952701-6ebd-4733-bbd5-50701e5c55da",
   "metadata": {},
   "outputs": [
    {
     "name": "stdin",
     "output_type": "stream",
     "text": [
      "Enter the name:  9\n"
     ]
    }
   ],
   "source": [
    "num=int(input(\"Enter the name: \"))"
   ]
  },
  {
   "cell_type": "code",
   "execution_count": null,
   "id": "0f4d870f-8f5d-42cf-9aa0-ac9052903aba",
   "metadata": {},
   "outputs": [],
   "source": []
  }
 ],
 "metadata": {
  "kernelspec": {
   "display_name": "Python [conda env:base] *",
   "language": "python",
   "name": "conda-base-py"
  },
  "language_info": {
   "codemirror_mode": {
    "name": "ipython",
    "version": 3
   },
   "file_extension": ".py",
   "mimetype": "text/x-python",
   "name": "python",
   "nbconvert_exporter": "python",
   "pygments_lexer": "ipython3",
   "version": "3.12.7"
  }
 },
 "nbformat": 4,
 "nbformat_minor": 5
}
