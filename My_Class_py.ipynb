{
  "nbformat": 4,
  "nbformat_minor": 0,
  "metadata": {
    "colab": {
      "provenance": []
    },
    "kernelspec": {
      "name": "python3",
      "display_name": "Python 3"
    },
    "language_info": {
      "name": "python"
    }
  },
  "cells": [
    {
      "cell_type": "code",
      "execution_count": 40,
      "metadata": {
        "id": "zkHrzYr39w7n"
      },
      "outputs": [],
      "source": [
        "#create class with multi functions\n",
        "class My_Class:\n",
        "\n",
        "#function to list out AI subfields\n",
        "  def SubfieldsInAI():\n",
        "    AI_list=['Machine Learning','Neural Networks','Vision','Robotics','Speech processing','Natural Language Processing']\n",
        "    for list in AI_list:\n",
        "      print(list)\n",
        "\n",
        "#function that checks whether the given number is Odd or Even\n",
        "  def OddEven():\n",
        "    getinput=int(input(\"Enter a number: \"))\n",
        "    if (getinput%2==0):\n",
        "      result=print(getinput,\"is even\")\n",
        "      return result\n",
        "    else:\n",
        "      result=print(getinput,\"is odd\")\n",
        "      return result\n",
        "\n",
        "#function that tells elegibility of marriage for male and female according to their age limit : 21 for male and 18 for female\n",
        "  def marriage_elegibility():\n",
        "    getgender=str(input(\"Enter your gender: \"))\n",
        "    getage=int(input(\"Enter your age: \"))\n",
        "    if(getgender==\"female\" and getage>=18):\n",
        "      result=print(\"You are eligible\")\n",
        "      return result\n",
        "    elif(getgender==\"male\" and getage>=21):\n",
        "      result=print(\"You are eligible\")\n",
        "      return result\n",
        "    else:\n",
        "      result=print(\"You are not eligible\")\n",
        "      return result\n",
        "\n",
        "#function to calculate the percentage of your 10th mark\n",
        "  def calculate_percentage():\n",
        "# Input marks for 5 subjects\n",
        "    marks = [ ]\n",
        "    for i in range(1, 6):\n",
        "      mark = float(input(f\"Subject {i}: \"))\n",
        "      marks.append(mark)\n",
        "# Calculate total and percentage\n",
        "    total_marks = sum(marks)\n",
        "    percentage = (total_marks / 500) * 100\n",
        "    print(\"Total Marks: \",total_marks)\n",
        "    print(\"Percentage: \",percentage)\n",
        "\n",
        "#calculate area and perimeter or triangle using class and function\n",
        "  def triangle_Calc():\n",
        "    calc=input(\"Calculate Area or Perimeter?: \")\n",
        "    if (calc==\"Area\"):\n",
        "      Height=int(input(\"Height: \"))\n",
        "      Breadth=int(input(\"Breadth:\"))\n",
        "      Area=(Height*Breadth)/2\n",
        "      area_result=print(\"Area of Triangle: \",Area)\n",
        "      return(area_result)\n",
        "    elif (calc==\"Perimeter\"):\n",
        "      Height1=int(input(\"Height1: \"))\n",
        "      Height2=int(input(\"Height2: \"))\n",
        "      Breadth=int(input(\"Breadth:\"))\n",
        "      Perimeter=Height1+Height2+Breadth\n",
        "      peri_result=print(\"Perimeter of Triangle: \",Perimeter)\n",
        "      return(peri_result)\n",
        "    else:\n",
        "      no_result=print(\"Invalid choice. Please enter 'Area' or 'Perimeter'.\")\n",
        "      return(no_result)\n",
        "\n",
        "\n"
      ]
    },
    {
      "cell_type": "code",
      "source": [
        "My_Class.SubfieldsInAI()"
      ],
      "metadata": {
        "colab": {
          "base_uri": "https://localhost:8080/"
        },
        "id": "pY6bbSEX_YVp",
        "outputId": "0a548a08-68c2-46c5-8d7a-9f012ae5640d"
      },
      "execution_count": 13,
      "outputs": [
        {
          "output_type": "stream",
          "name": "stdout",
          "text": [
            "Machine Learning\n",
            "Neural Networks\n",
            "Vision\n",
            "Robotics\n",
            "Speech processing\n",
            "Natural Language Processing\n"
          ]
        }
      ]
    },
    {
      "cell_type": "code",
      "source": [
        "My_Class.OddEven()"
      ],
      "metadata": {
        "colab": {
          "base_uri": "https://localhost:8080/"
        },
        "id": "jwYCkcxSACgC",
        "outputId": "7e1d064f-223b-43ac-ed08-d40d2b81ab82"
      },
      "execution_count": 20,
      "outputs": [
        {
          "output_type": "stream",
          "name": "stdout",
          "text": [
            "Enter a number: 3\n",
            "3 is odd\n"
          ]
        }
      ]
    },
    {
      "cell_type": "code",
      "source": [
        "My_Class.marriage_elegibility()"
      ],
      "metadata": {
        "colab": {
          "base_uri": "https://localhost:8080/"
        },
        "id": "jTwlsic6BRqB",
        "outputId": "570ab34a-16f6-4975-c264-29e4bf047901"
      },
      "execution_count": 28,
      "outputs": [
        {
          "output_type": "stream",
          "name": "stdout",
          "text": [
            "Enter your gender: male\n",
            "Enter your age: 20\n",
            "You are not eligible\n"
          ]
        }
      ]
    },
    {
      "cell_type": "code",
      "source": [
        "My_Class.calculate_percentage()"
      ],
      "metadata": {
        "colab": {
          "base_uri": "https://localhost:8080/"
        },
        "id": "VhNejQKGCjHK",
        "outputId": "9d5c40bf-831c-412d-a2ae-f1837290c4b9"
      },
      "execution_count": 30,
      "outputs": [
        {
          "output_type": "stream",
          "name": "stdout",
          "text": [
            "Subject 1: 98\n",
            "Subject 2: 96\n",
            "Subject 3: 86\n",
            "Subject 4: 76\n",
            "Subject 5: 99\n",
            "Total Marks:  455.0\n",
            "Percentage:  91.0\n"
          ]
        }
      ]
    },
    {
      "cell_type": "code",
      "source": [
        "My_Class.triangle_Calc()"
      ],
      "metadata": {
        "colab": {
          "base_uri": "https://localhost:8080/"
        },
        "id": "XJkdNSspEXNo",
        "outputId": "d8c631fa-344f-4b4b-8387-6b44f2000e4f"
      },
      "execution_count": 42,
      "outputs": [
        {
          "output_type": "stream",
          "name": "stdout",
          "text": [
            "Calculate Area or Perimeter?: Area\n",
            "Height: 40\n",
            "Breadth:39\n",
            "Area of Triangle:  780.0\n"
          ]
        }
      ]
    },
    {
      "cell_type": "code",
      "source": [],
      "metadata": {
        "id": "MyfVs4WpFpWF"
      },
      "execution_count": null,
      "outputs": []
    }
  ]
}