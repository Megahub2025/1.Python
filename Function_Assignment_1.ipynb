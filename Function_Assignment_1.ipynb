{
  "nbformat": 4,
  "nbformat_minor": 0,
  "metadata": {
    "colab": {
      "provenance": []
    },
    "kernelspec": {
      "name": "python3",
      "display_name": "Python 3"
    },
    "language_info": {
      "name": "python"
    }
  },
  "cells": [
    {
      "cell_type": "code",
      "execution_count": 11,
      "metadata": {
        "id": "owyAymP11klH"
      },
      "outputs": [],
      "source": [
        "# Create a class and function, and list out the items in the list\n",
        "sub_fields=['Machine Learning','Neural Networks','Vision','Robotics','Speech Processing','Natural Language Processing']\n",
        "def subfields():\n",
        "    for item in sub_fields:\n",
        "        print(item)"
      ]
    },
    {
      "cell_type": "code",
      "source": [
        "# call the function and print the items\n",
        "subfields()"
      ],
      "metadata": {
        "colab": {
          "base_uri": "https://localhost:8080/"
        },
        "id": "B7Wn3ce62VeS",
        "outputId": "d7344078-1a7f-47f9-cc2a-598012298779"
      },
      "execution_count": 12,
      "outputs": [
        {
          "output_type": "stream",
          "name": "stdout",
          "text": [
            "Machine Learning\n",
            "Neural Networks\n",
            "Vision\n",
            "Robotics\n",
            "Speech Processing\n",
            "Natural Language Processing\n"
          ]
        }
      ]
    },
    {
      "cell_type": "code",
      "source": [
        "#create a fuction to check the given number odd/even\n",
        "def OddEven(num):\n",
        "  if num%2==0:\n",
        "    print(num,\"is Even number\")\n",
        "  else:\n",
        "    print(num,\"is Odd number\")"
      ],
      "metadata": {
        "id": "6Cqd8rIH2ciQ"
      },
      "execution_count": 24,
      "outputs": []
    },
    {
      "cell_type": "code",
      "source": [
        "# Get the input and call the function with passing the value\n",
        "GetInput=int(input(\"Enter a number: \"))\n",
        "OddEven(GetInput)"
      ],
      "metadata": {
        "colab": {
          "base_uri": "https://localhost:8080/"
        },
        "id": "yVQ-aI2e5ahp",
        "outputId": "d96e5347-165a-4f16-f023-c8f225326d80"
      },
      "execution_count": 25,
      "outputs": [
        {
          "output_type": "stream",
          "name": "stdout",
          "text": [
            "Enter a number: 2\n",
            "2 is Even number\n"
          ]
        }
      ]
    },
    {
      "cell_type": "code",
      "source": [
        "# Create a function that tells elegibility of marriage for male and female according to their age limit like 21 for male and 18 for female\n",
        "def ElegiblityForMarriage(gender,age):\n",
        "  if (gender==\"Female\" and age>=18):\n",
        "    print(\"ELIGIBLE\")\n",
        "  elif (gender==\"Male\" and age>=21):\n",
        "    print(\"ELIGIBLE\")\n",
        "  else:\n",
        "    print(\"NOT ELIGIBLE\")"
      ],
      "metadata": {
        "id": "Dgca0jEv5byx"
      },
      "execution_count": 32,
      "outputs": []
    },
    {
      "cell_type": "code",
      "source": [
        "GetGender=input(\"Enter your gender:\")\n",
        "GetAge=int(input(\"Enter your age: \"))\n",
        "ElegiblityForMarriage(GetGender,GetAge)"
      ],
      "metadata": {
        "colab": {
          "base_uri": "https://localhost:8080/"
        },
        "id": "1u8ivBMM7XpM",
        "outputId": "564848ca-a28f-4495-cc5a-54c69ba71232"
      },
      "execution_count": 33,
      "outputs": [
        {
          "output_type": "stream",
          "name": "stdout",
          "text": [
            "Enter your gender:Female\n",
            "Enter your age: 25\n",
            "ELIGIBLE\n"
          ]
        }
      ]
    },
    {
      "cell_type": "code",
      "source": [
        "#calculate the total and percentage of 10th marks\n",
        "def calculate_percentage():\n",
        "# Input marks for 5 subjects\n",
        "    marks = [ ]\n",
        "    for i in range(1, 6):\n",
        "        mark = float(input(f\"Subject {i}: \"))\n",
        "        marks.append(mark)\n",
        "\n",
        "# Calculate total and percentage\n",
        "    total_marks = sum(marks)\n",
        "    percentage = (total_marks / 500) * 100\n",
        "    print(\"Total Marks: \",total_marks)\n",
        "    print(\"Percentage: \",percentage)\n",
        "\n",
        "# Call the function\n",
        "calculate_percentage()"
      ],
      "metadata": {
        "colab": {
          "base_uri": "https://localhost:8080/"
        },
        "id": "mF6Hq_2775CO",
        "outputId": "2d929535-6f40-485c-c12b-c672b6a44beb"
      },
      "execution_count": 45,
      "outputs": [
        {
          "output_type": "stream",
          "name": "stdout",
          "text": [
            "Subject 1: 98\n",
            "Subject 2: 65\n",
            "Subject 3: 32\n",
            "Subject 4: 78\n",
            "Subject 5: 56\n",
            "Total Marks:  329.0\n",
            "Percentage:  65.8\n"
          ]
        }
      ]
    },
    {
      "cell_type": "code",
      "source": [
        "#calculate area and perimeter or triangle using class and function\n",
        "class Triangle:\n",
        "  def triangle_Calc():\n",
        "    calc=input(\"Calculate Area or Perimeter?: \")\n",
        "    if (calc==\"Area\"):\n",
        "      Height=int(input(\"Height: \"))\n",
        "      Breadth=int(input(\"Breadth:\"))\n",
        "      Area=(Height*Breadth)/2\n",
        "      print(\"Area of Triangle: \",Area)\n",
        "    elif (calc==\"Perimeter\"):\n",
        "      Height1=int(input(\"Height1: \"))\n",
        "      Height2=int(input(\"Height2: \"))\n",
        "      Breadth=int(input(\"Breadth:\"))\n",
        "      Perimeter=Height1+Height2+Breadth\n",
        "      print(\"Perimeter of Triangle: \",Perimeter)\n",
        "    else:\n",
        "      print(\"Invalid choice. Please enter 'Area' or 'Perimeter'.\")"
      ],
      "metadata": {
        "id": "TrdAUUbLCgd5"
      },
      "execution_count": 67,
      "outputs": []
    },
    {
      "cell_type": "code",
      "source": [
        "#Call Class and function\n",
        "triangle=Triangle()\n",
        "Triangle.triangle_Calc()"
      ],
      "metadata": {
        "colab": {
          "base_uri": "https://localhost:8080/"
        },
        "id": "lGtKYdbvFkHV",
        "outputId": "0d081de6-76ba-4e64-f009-edbdc4e3425d"
      },
      "execution_count": 68,
      "outputs": [
        {
          "output_type": "stream",
          "name": "stdout",
          "text": [
            "Calculate Area or Perimeter?: Areaa\n",
            "Invalid choice. Please enter 'Area' or 'Perimeter'.\n"
          ]
        }
      ]
    },
    {
      "cell_type": "code",
      "source": [],
      "metadata": {
        "id": "H6cYEL0ZFmSd"
      },
      "execution_count": null,
      "outputs": []
    }
  ]
}