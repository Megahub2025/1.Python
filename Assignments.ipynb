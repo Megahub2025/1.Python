{
  "cells": [
    {
      "cell_type": "code",
      "execution_count": null,
      "id": "4261b8a2-c1c7-45b2-a4a9-0c71155813d3",
      "metadata": {
        "id": "4261b8a2-c1c7-45b2-a4a9-0c71155813d3",
        "outputId": "edc134fe-d668-4095-eeb6-dafd96c59928"
      },
      "outputs": [
        {
          "name": "stdout",
          "output_type": "stream",
          "text": [
            "welcome to Hope AI\n"
          ]
        }
      ],
      "source": [
        "print(\"welcome to Hope AI\")"
      ]
    },
    {
      "cell_type": "code",
      "execution_count": 4,
      "id": "ae428cde-2cbe-47a1-bfb7-f803f737dc33",
      "metadata": {
        "colab": {
          "base_uri": "https://localhost:8080/"
        },
        "id": "ae428cde-2cbe-47a1-bfb7-f803f737dc33",
        "outputId": "f784a851-4431-4354-f0b0-6b613e9d3f8b"
      },
      "outputs": [
        {
          "output_type": "stream",
          "name": "stdout",
          "text": [
            "19 is odd\n",
            "25 is odd\n",
            "1 is odd\n"
          ]
        }
      ],
      "source": [
        "# Define the list of numbers\n",
        "numbers = [20, 10, 16, 19, 25, 1, 276, 188]\n",
        "\n",
        "# check for odd numbers\n",
        "for num in numbers:\n",
        "    if num % 2 != 0:\n",
        "        print(num,\"is odd\")\n"
      ]
    },
    {
      "cell_type": "code",
      "source": [
        "# Define the list of numbers\n",
        "numbers = [20, 10, 16, 19, 25, 1, 276, 188]\n",
        "\n",
        "# check for even numbers\n",
        "for num in numbers:\n",
        "    if num % 2 == 0:\n",
        "        print(num,\"is even\")"
      ],
      "metadata": {
        "colab": {
          "base_uri": "https://localhost:8080/"
        },
        "id": "4eeyAdivpQFR",
        "outputId": "fb1a6254-de4b-4abd-9d6a-c7123b8dbf7f"
      },
      "id": "4eeyAdivpQFR",
      "execution_count": 6,
      "outputs": [
        {
          "output_type": "stream",
          "name": "stdout",
          "text": [
            "20 is even\n",
            "10 is even\n",
            "16 is even\n",
            "276 is even\n",
            "188 is even\n"
          ]
        }
      ]
    },
    {
      "cell_type": "code",
      "source": [
        "num=10\n",
        "if num==10:\n",
        "  print(\"Value is 10\")\n",
        "  print(\"Correct\")\n",
        "else:\n",
        "  print(\"Incorrect\")"
      ],
      "metadata": {
        "colab": {
          "base_uri": "https://localhost:8080/"
        },
        "id": "QmNs3gdlr4Km",
        "outputId": "c014b120-bd75-4b88-e5b4-e29ff0644682"
      },
      "id": "QmNs3gdlr4Km",
      "execution_count": 12,
      "outputs": [
        {
          "output_type": "stream",
          "name": "stdout",
          "text": [
            "Value is 10\n",
            "Correct\n"
          ]
        }
      ]
    },
    {
      "cell_type": "code",
      "source": [
        "#check the password using if else\n",
        "correct_password = \"HOPE@123\"\n",
        "entered_password = input(\"Enter your password: \")\n",
        "if entered_password == correct_password:\n",
        "    print(\"Your password is correct\")\n",
        "else:\n",
        "    print(\"Your password is incorrect\")"
      ],
      "metadata": {
        "colab": {
          "base_uri": "https://localhost:8080/"
        },
        "id": "Usrcq9kfuJ__",
        "outputId": "476d8b83-a8ce-4517-8275-07cf798c6fda"
      },
      "id": "Usrcq9kfuJ__",
      "execution_count": 15,
      "outputs": [
        {
          "output_type": "stream",
          "name": "stdout",
          "text": [
            "Enter your password: HOPE@123\n",
            "Your password is correct\n"
          ]
        }
      ]
    },
    {
      "cell_type": "code",
      "source": [
        "# Categorize based on age\n",
        "age = int(input(\"Enter your age: \"))\n",
        "if age < 0:\n",
        "    print(\"Invalid age\")\n",
        "elif age < 13:\n",
        "    print(\"Child\")\n",
        "elif age < 20:\n",
        "    print(\"Teenager\")\n",
        "elif age < 50:\n",
        "    print(\"Adult\")\n",
        "else:\n",
        "    print(\"Senior\")"
      ],
      "metadata": {
        "colab": {
          "base_uri": "https://localhost:8080/"
        },
        "id": "xAqqG8j6wIp6",
        "outputId": "3d6844cc-2b3c-443c-957d-83a2e807a375"
      },
      "id": "xAqqG8j6wIp6",
      "execution_count": 17,
      "outputs": [
        {
          "output_type": "stream",
          "name": "stdout",
          "text": [
            "Enter your age: 50\n",
            "Senior\n"
          ]
        }
      ]
    },
    {
      "cell_type": "code",
      "source": [
        "# Check if the number is positive, negative, or zero\n",
        "num = float(input(\"Enter a number: \"))\n",
        "if num > 0:\n",
        "    print(\"The number is positive\")\n",
        "elif num < 0:\n",
        "    print(\"The number is negative\")\n",
        "else:\n",
        "    print(\"The number is zero\")"
      ],
      "metadata": {
        "colab": {
          "base_uri": "https://localhost:8080/"
        },
        "id": "lp5ZQIEGxxdS",
        "outputId": "e765095b-d2f3-49c1-d96b-0a385c2484db"
      },
      "id": "lp5ZQIEGxxdS",
      "execution_count": 22,
      "outputs": [
        {
          "output_type": "stream",
          "name": "stdout",
          "text": [
            "Enter a number: 0\n",
            "The number is positive\n"
          ]
        }
      ]
    },
    {
      "cell_type": "code",
      "source": [
        "#Check if the given number is divisible by 5 or not\n",
        "num=int(input(\"Enter a number to check:\"))\n",
        "if num%5==0:\n",
        "  print(\"Yes, the number is divisible by 5\")\n",
        "else:\n",
        "  print(\"No, the number is not divisible by 5\")"
      ],
      "metadata": {
        "colab": {
          "base_uri": "https://localhost:8080/"
        },
        "id": "N9XWY0tayWyb",
        "outputId": "3dea1148-499f-4ce5-bdd1-9b3b0f14c147"
      },
      "id": "N9XWY0tayWyb",
      "execution_count": 29,
      "outputs": [
        {
          "output_type": "stream",
          "name": "stdout",
          "text": [
            "Enter a number to check:5\n",
            "Yes, the number is divisible by 5\n"
          ]
        }
      ]
    }
  ],
  "metadata": {
    "kernelspec": {
      "display_name": "Python [conda env:base] *",
      "language": "python",
      "name": "conda-base-py"
    },
    "language_info": {
      "codemirror_mode": {
        "name": "ipython",
        "version": 3
      },
      "file_extension": ".py",
      "mimetype": "text/x-python",
      "name": "python",
      "nbconvert_exporter": "python",
      "pygments_lexer": "ipython3",
      "version": "3.12.7"
    },
    "colab": {
      "provenance": []
    }
  },
  "nbformat": 4,
  "nbformat_minor": 5
}